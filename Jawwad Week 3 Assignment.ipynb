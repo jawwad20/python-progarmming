{
 "cells": [
  {
   "cell_type": "code",
   "execution_count": 1,
   "id": "6e208f88",
   "metadata": {},
   "outputs": [],
   "source": [
    "class MyClass:\n",
    "  k = 8"
   ]
  },
  {
   "cell_type": "code",
   "execution_count": 2,
   "id": "6f7e9633",
   "metadata": {},
   "outputs": [],
   "source": [
    "class MyNewClass:\n",
    "    '''This is a docstring. I have created a new class'''\n",
    "    pass"
   ]
  },
  {
   "cell_type": "code",
   "execution_count": 3,
   "id": "671c7f09",
   "metadata": {},
   "outputs": [
    {
     "name": "stdout",
     "output_type": "stream",
     "text": [
      "Book: EDC, Quantity: 28, Author: Boylestead, Price: 1200\n",
      "Book: SAS, Quantity: 29, Author: Nagoorkani, Price: 2020\n",
      "Book: M3, Quantity: 45, Author: G.V.K, Price: 400\n",
      "Book: Child Things, Quantity: 1, Author: Soham Bakkar, Price: 150\n"
     ]
    }
   ],
   "source": [
    "class Book:\n",
    "    def __init__(self, title, quantity, author, price):\n",
    "        self.title = title\n",
    "        self.quantity = quantity\n",
    "        self.author = author\n",
    "        self.price = price\n",
    "\n",
    "    def __repr__(self):\n",
    "        return f\"Book: {self.title}, Quantity: {self.quantity}, Author: {self.author}, Price: {self.price}\"\n",
    "\n",
    "\n",
    "book1 = Book('EDC', 28, 'Boylestead', 1200)\n",
    "book2 = Book('SAS', 29, 'Nagoorkani', 2020)\n",
    "book3 = Book('M3', 45, 'G.V.K', 400)\n",
    "book4 = Book('Child Things', 1, 'Soham Bakkar', 150)\n",
    "\n",
    "print(book1)\n",
    "print(book2)\n",
    "print(book3)\n",
    "print(book4)"
   ]
  },
  {
   "cell_type": "code",
   "execution_count": 4,
   "id": "8af153c2",
   "metadata": {},
   "outputs": [
    {
     "name": "stdout",
     "output_type": "stream",
     "text": [
      "Total transaction value: 100000 \n"
     ]
    }
   ],
   "source": [
    "class bank:\n",
    "    def transaction(self):\n",
    "        print(\"Total transaction value: 100000 \")\n",
    "\n",
    "    def account_opening(self):\n",
    "        print(\"This will show you your deposited account:\")\n",
    "\n",
    "    def deposite(self):\n",
    "        print(\"deposited account\")\n",
    "\n",
    "    def test(self):\n",
    "        print(\"this is test from bank\")\n",
    "\n",
    "class HDFC_bank():\n",
    "    def hdfc_to_ICICI(self):\n",
    "        print(\"This is hdfc to ICICI\")\n",
    "\n",
    "    def test(self):\n",
    "        print(\"this is test from HDFC\")\n",
    "\n",
    "class iNeuron():\n",
    "    def account_status_icici(self):\n",
    "        print(\"This is iNeuron\")\n",
    "\n",
    "class ICICI(HDFC_bank, bank, iNeuron):\n",
    "    def icici(self):\n",
    "        print(\"indepedent\")\n",
    "\n",
    "\n",
    "i=ICICI()\n",
    "\n",
    "#i.hdfc_to_ICICI()\n",
    "i.transaction()\n",
    "#i.account_opening()\n",
    "#i.deposite()\n",
    "#i.icici()\n",
    "#i.test()\n",
    "#i.account_status_icici()"
   ]
  },
  {
   "cell_type": "code",
   "execution_count": 5,
   "id": "bde6ded4",
   "metadata": {},
   "outputs": [
    {
     "name": "stdout",
     "output_type": "stream",
     "text": [
      "Adbhoot\n",
      "19\n"
     ]
    }
   ],
   "source": [
    "#using __init__ function\n",
    "\n",
    "class Person:\n",
    "  def __init__(self, name, age):\n",
    "    self.name = name\n",
    "    self.age = age\n",
    "\n",
    "p1 = Person(\"Adbhoot\", 19)\n",
    "\n",
    "print(p1.name)\n",
    "print(p1.age)"
   ]
  },
  {
   "cell_type": "code",
   "execution_count": 6,
   "id": "357c3328",
   "metadata": {},
   "outputs": [
    {
     "name": "stdout",
     "output_type": "stream",
     "text": [
      "Hello my name is John\n"
     ]
    }
   ],
   "source": [
    "#object methods\n",
    "class Person:\n",
    "  def __init__(self, name, age):\n",
    "    self.name = name\n",
    "    self.age = age\n",
    "    \n",
    "#Objects can also contain methods. Methods in objects are functions that belong to the object.\n",
    "#Let us create a method in the Person class:\n",
    "\n",
    "  def myfunc(self):\n",
    "    print(\"Hello my name is \" + self.name)\n",
    "\n",
    "p1 = Person(\"John\", 36)\n",
    "p1.myfunc()"
   ]
  },
  {
   "cell_type": "code",
   "execution_count": 7,
   "id": "1952d3c9",
   "metadata": {},
   "outputs": [
    {
     "name": "stdout",
     "output_type": "stream",
     "text": [
      "Hello my name is Kaushik and  surname is Thale\n"
     ]
    }
   ],
   "source": [
    "#The self parameter is a reference to the current instance of the class, and is used to access variables that belongs to the class.\n",
    "class Person:\n",
    "  def __init__(mysillyobject, name, surname):\n",
    "    mysillyobject.name = name\n",
    "    mysillyobject.surname = surname\n",
    "\n",
    "  def myfunc(abc):\n",
    "    print(\"Hello my name is \" + abc.name + \" and  surname is \" + abc.surname )\n",
    "\n",
    "p1 = Person(\"Kaushik\", \"Thale\")\n",
    "p1.myfunc()\n"
   ]
  },
  {
   "cell_type": "code",
   "execution_count": 8,
   "id": "c4cb552f",
   "metadata": {},
   "outputs": [
    {
     "ename": "SyntaxError",
     "evalue": "EOL while scanning string literal (4042279087.py, line 19)",
     "output_type": "error",
     "traceback": [
      "\u001b[1;36m  File \u001b[1;32m\"C:\\Users\\Admin\\AppData\\Local\\Temp\\ipykernel_1396\\4042279087.py\"\u001b[1;36m, line \u001b[1;32m19\u001b[0m\n\u001b[1;33m    emp2 = Employee(\"Akshay, 105000)\u001b[0m\n\u001b[1;37m                                    ^\u001b[0m\n\u001b[1;31mSyntaxError\u001b[0m\u001b[1;31m:\u001b[0m EOL while scanning string literal\n"
     ]
    }
   ],
   "source": [
    "class Employee:\n",
    "   'Common base class for all employees'\n",
    "   empCount = 0\n",
    "\n",
    "   def __init__(self, name, salary):\n",
    "      self.name = name\n",
    "      self.salary = salary\n",
    "      Employee.empCount += 1\n",
    "   \n",
    "   def displayCount(self):\n",
    "     print( \"Total Employee %d\" % Employee.empCount)\n",
    "\n",
    "   def displayEmployee(self):\n",
    "      print (\"Name : \", self.name,  \", Salary: \", self.salary)\n",
    "\n",
    "\n",
    "emp1 = Employee(\"Jawad\", 102000)\n",
    "\n",
    "emp2 = Employee(\"Akshay, 105000)\n",
    "\n",
    "emp3 = Employee(\"Shrutam\", 101000)\n",
    "\n",
    "\n",
    "emp1.displayEmployee()\n",
    "emp2.displayEmployee()\n",
    "emp3.displayEmployee()\n",
    "print (\"Total Employee %d\" % Employee.empCount)"
   ]
  },
  {
   "cell_type": "code",
   "execution_count": 9,
   "id": "b337b4af",
   "metadata": {},
   "outputs": [
    {
     "name": "stdout",
     "output_type": "stream",
     "text": [
      "Initial list of values of list01: []\n",
      "Updated list after adding values to it: [222, 3420, 4034, 2012]\n",
      "Updated list after removing value 2012 is:  [222, 3420, 4034]\n"
     ]
    }
   ],
   "source": [
    "class NumList:\n",
    "    def __init__(self):\n",
    "        self.__list = [] \n",
    "    \n",
    "    def add_value(self, val):\n",
    "        self.__list.append(val)\n",
    "    \n",
    "    def remove_value(self):\n",
    "        rv = self.__list[-1]\n",
    "        del self.__list[-1]\n",
    "        return rv\n",
    "    \n",
    "    def print_list(self):\n",
    "        return self.__list\n",
    "\n",
    "list01 = NumList()\n",
    "print('Initial list of values of list01:', list01.print_list())\n",
    "list01.add_value(222)\n",
    "list01.add_value(3420)\n",
    "list01.add_value(4034)\n",
    "list01.add_value(2012)\n",
    "print('Updated list after adding values to it:', list01.print_list())\n",
    "val = list01.remove_value()\n",
    "print('Updated list after removing value %s is: ' % (val), list01.print_list())"
   ]
  },
  {
   "cell_type": "code",
   "execution_count": 10,
   "id": "b4715a56",
   "metadata": {},
   "outputs": [
    {
     "name": "stdout",
     "output_type": "stream",
     "text": [
      "Initial list of values list02: []\n",
      "Updated list after adding values to it: [20000, 50000, 40000, 100000]\n",
      "Updated list after removing value 100000 is:  [20000, 50000, 40000]\n"
     ]
    }
   ],
   "source": [
    "list02 = NumList()\n",
    "print('Initial list of values list02:', list02.print_list())\n",
    "list02.add_value(20000)\n",
    "list02.add_value(50000)\n",
    "list02.add_value(40000)\n",
    "list02.add_value(100000)\n",
    "print('Updated list after adding values to it:', list02.print_list())\n",
    "val = list02.remove_value()\n",
    "print('Updated list after removing value %s is: ' % (val), list02.print_list())"
   ]
  },
  {
   "cell_type": "code",
   "execution_count": 11,
   "id": "ee91639e",
   "metadata": {},
   "outputs": [
    {
     "name": "stdout",
     "output_type": "stream",
     "text": [
      "This is a Electric car of colour Red\n",
      "This car is ecofriendly!\n"
     ]
    }
   ],
   "source": [
    "# Class creation\n",
    "class Car:\n",
    "  # Initializer Method\n",
    "  def __init__(self):\n",
    "    # Instance variables\n",
    "    self.color = 'orange'\n",
    "    self.fuel_type = 'Petrol'\n",
    "  # Creating a class method\n",
    "  @classmethod\n",
    "  def details(cls, color, fuel_type):\n",
    "    print(\"This is a {} car of colour {}\".format(fuel_type, color))\n",
    "  # Creating a class method \n",
    "  @staticmethod\n",
    "  def ecofriendly(fuel_type):\n",
    "    if fuel_type.lower()=='electric':\n",
    "      print(\"This car is ecofriendly!\")\n",
    "    else:\n",
    "      print(\"This car is not ecofriendly!\")\n",
    "# Object Creation\n",
    "SUV = Car()\n",
    "SUV.details('Red', 'Electric')\n",
    "SUV.ecofriendly('Electric')"
   ]
  },
  {
   "cell_type": "code",
   "execution_count": 12,
   "id": "71b4ddac",
   "metadata": {},
   "outputs": [
    {
     "name": "stdout",
     "output_type": "stream",
     "text": [
      "The color of this Bike is : turquiose\n"
     ]
    }
   ],
   "source": [
    "# Parent Class\n",
    "class Vehicle:\n",
    "  def __init__(self):\n",
    "    self.color = 'turquiose'\n",
    "  def fuel_type(self):\n",
    "    print(\"This is an Electric Vehicle\")\n",
    "# Child Class\n",
    "class Bike(Vehicle):\n",
    "  def __init__(self):\n",
    "    # Inherit the initializer method of parent class\n",
    "    super().__init__()\n",
    "  \n",
    "  # Method to use the attributes of parent class\n",
    "  def details(self):\n",
    "    print(\"The color of this Bike is :\", self.color)\n",
    "# Object for child class\n",
    "Superbike = Bike()\n",
    "# Access the method of child class\n",
    "Superbike.details()"
   ]
  },
  {
   "cell_type": "code",
   "execution_count": 13,
   "id": "deb3bd34",
   "metadata": {},
   "outputs": [],
   "source": [
    "class car:\n",
    "    def __init__(self, milage, year, make, model,engineno):\n",
    "        self.milage = milage\n",
    "        self.year = year\n",
    "        self.make = make\n",
    "        self.model = model\n",
    "        self.engineno = engineno"
   ]
  },
  {
   "cell_type": "code",
   "execution_count": 14,
   "id": "ebc065bf",
   "metadata": {},
   "outputs": [],
   "source": [
    "supra1 = car(13, 2022, \"ratatatata\", \"sass\", 2332)\n",
    "audiq71 = car(11, 2021, \"weqq\",\"qweq\",2342342)\n",
    "supra2 = car(13, 2022, \"ratatatata\", \"sass\", 2332)\n",
    "audiq72 = car(11, 2021, \"weqq\",\"qweq\",2342342)\n",
    "supra3 = car(13, 2022, \"ratatatata\", \"sass\", 2332)\n",
    "audiq73 = car(11, 2021, \"weqq\",\"qweq\",2342342)\n",
    "supra4 = car(13, 2022, \"ratatatata\", \"sass\", 2332)\n",
    "audiq74 = car(11, 2021, \"weqq\",\"qweq\",2342342)"
   ]
  },
  {
   "cell_type": "code",
   "execution_count": 15,
   "id": "710528eb",
   "metadata": {},
   "outputs": [],
   "source": [
    "audiq71 = car(11, 2021, \"weqq\",\"qweq\",2342342)"
   ]
  },
  {
   "cell_type": "code",
   "execution_count": 16,
   "id": "3198cb8d",
   "metadata": {},
   "outputs": [
    {
     "data": {
      "text/plain": [
       "'qweq'"
      ]
     },
     "execution_count": 16,
     "metadata": {},
     "output_type": "execute_result"
    }
   ],
   "source": [
    "audiq71.model"
   ]
  },
  {
   "cell_type": "code",
   "execution_count": 17,
   "id": "c0ff7891",
   "metadata": {},
   "outputs": [
    {
     "data": {
      "text/plain": [
       "'sass'"
      ]
     },
     "execution_count": 17,
     "metadata": {},
     "output_type": "execute_result"
    }
   ],
   "source": [
    "supra1.model"
   ]
  },
  {
   "cell_type": "code",
   "execution_count": 18,
   "id": "3a471557",
   "metadata": {},
   "outputs": [],
   "source": [
    "class car:\n",
    "    def __init__(a, m, y, ma, mo,en):\n",
    "        a.milage = m\n",
    "        a.year = y\n",
    "        a.make = ma\n",
    "        a.model = mo\n",
    "        a.engineno = en\n",
    "    \n",
    "    def age(self, current_year):\n",
    "        return current_year - self.year\n",
    "    \n",
    "    def milage1(self):\n",
    "        print(\"print a milage of car : \", self.milage)\n",
    "        #return self.milage\n",
    "    \n",
    "    def __str__(c):\n",
    "        return \"this is my car class I have created\""
   ]
  },
  {
   "cell_type": "code",
   "execution_count": 19,
   "id": "bea6d509",
   "metadata": {},
   "outputs": [],
   "source": [
    "audiq711 = car(11, 2021, \"weqq\",\"qweq\",2342342)"
   ]
  },
  {
   "cell_type": "code",
   "execution_count": 20,
   "id": "5c20af3c",
   "metadata": {},
   "outputs": [
    {
     "data": {
      "text/plain": [
       "11"
      ]
     },
     "execution_count": 20,
     "metadata": {},
     "output_type": "execute_result"
    }
   ],
   "source": [
    "audiq711.milage"
   ]
  },
  {
   "cell_type": "code",
   "execution_count": 21,
   "id": "035a9077",
   "metadata": {},
   "outputs": [
    {
     "data": {
      "text/plain": [
       "2"
      ]
     },
     "execution_count": 21,
     "metadata": {},
     "output_type": "execute_result"
    }
   ],
   "source": [
    "audiq711.age(2023)"
   ]
  },
  {
   "cell_type": "code",
   "execution_count": null,
   "id": "de62b53f",
   "metadata": {},
   "outputs": [],
   "source": []
  }
 ],
 "metadata": {
  "kernelspec": {
   "display_name": "Python 3 (ipykernel)",
   "language": "python",
   "name": "python3"
  },
  "language_info": {
   "codemirror_mode": {
    "name": "ipython",
    "version": 3
   },
   "file_extension": ".py",
   "mimetype": "text/x-python",
   "name": "python",
   "nbconvert_exporter": "python",
   "pygments_lexer": "ipython3",
   "version": "3.9.13"
  }
 },
 "nbformat": 4,
 "nbformat_minor": 5
}
