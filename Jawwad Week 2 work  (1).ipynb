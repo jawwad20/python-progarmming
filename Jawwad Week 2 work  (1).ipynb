{
 "cells": [
  {
   "cell_type": "code",
   "execution_count": 9,
   "id": "a50b9bfe",
   "metadata": {},
   "outputs": [
    {
     "name": "stdout",
     "output_type": "stream",
     "text": [
      "Enter a : 10\n",
      "Enter b : 12\n",
      "Enter c : 13\n",
      "0\n"
     ]
    }
   ],
   "source": [
    "#Section A\n",
    "# Question1\n",
    "#Create a function that takes three integer arguments (a, b, c) and returns the amount of integers which are of equal value.\n",
    "\n",
    "def equal(a, b, c):     \n",
    "    if(a==b==c):\n",
    "        print(3)\n",
    "    elif(a==b or b==c or a==c):\n",
    "        print(2)\n",
    "    else:\n",
    "        print(0)\n",
    "a = int(input('Enter a : '))\n",
    "b = int(input('Enter b : '))\n",
    "c = int(input('Enter c : '))\n",
    "equal(a, b, c)\n",
    "\n"
   ]
  },
  {
   "cell_type": "code",
   "execution_count": 11,
   "id": "2eda6770",
   "metadata": {},
   "outputs": [
    {
     "data": {
      "text/plain": [
       "[('B', 4), ('C', 3), ('D', 3)]"
      ]
     },
     "execution_count": 11,
     "metadata": {},
     "output_type": "execute_result"
    }
   ],
   "source": [
    "#2 Write a function that converts a dictionary into a list of keys-values tuples\n",
    "def dict_to_list(d):\n",
    "    try:\n",
    "        l = [(i, d[i]) for i in d]\n",
    "        return sorted(l)\n",
    "    except Exception as e:\n",
    "        print(e)\n",
    "dict_to_list({\n",
    "'D': 3,\n",
    "'B': 4,\n",
    "'C': 3\n",
    "})\n"
   ]
  },
  {
   "cell_type": "code",
   "execution_count": 12,
   "id": "5ca41dcb",
   "metadata": {},
   "outputs": [
    {
     "data": {
      "text/plain": [
       "{'k': 'K', 't': 'T'}"
      ]
     },
     "execution_count": 12,
     "metadata": {},
     "output_type": "execute_result"
    }
   ],
   "source": [
    "#Question3\n",
    "#Write a function that creates a dictionary with each (key, value) pair being the (lower case,upper case) versions of a letter, respectively.\n",
    "\n",
    "def mapping(lst):\n",
    "    return {v.lower():v.upper() for v in lst}\n",
    "mapping(['k','t'])"
   ]
  },
  {
   "cell_type": "code",
   "execution_count": 13,
   "id": "fe0f901a",
   "metadata": {},
   "outputs": [
    {
     "data": {
      "text/plain": [
       "'Mehereje mec'"
      ]
     },
     "execution_count": 13,
     "metadata": {},
     "output_type": "execute_result"
    }
   ],
   "source": [
    "#  Q4 Write a function, that replaces all vowels in a string with a specified vowel.\n",
    "def vow_replace(s,ch):\n",
    "    vowel ='AEIOUaeiuo'\n",
    "    s1 = []\n",
    "    for i in range(len(s)):\n",
    "        if s[i] in vowel:\n",
    "            s1.append(ch)\n",
    "        else:\n",
    "            s1.append(s[i])\n",
    "\n",
    "    return ''.join((s1))\n",
    "vow_replace('Maharaja mac','e')"
   ]
  },
  {
   "cell_type": "code",
   "execution_count": 14,
   "id": "c391025f",
   "metadata": {},
   "outputs": [
    {
     "data": {
      "text/plain": [
       "'LeT THe FLame go oN'"
      ]
     },
     "execution_count": 14,
     "metadata": {},
     "output_type": "execute_result"
    }
   ],
   "source": [
    "# Q5 Create a function that takes a string as input and capitalizes a letter if its ASCII code is evenand returns its lower case version if its ASCII code is odd.\n",
    "def ascii_capitalize(s):\n",
    "    s1 = []\n",
    "    for i in range(len(s)):\n",
    "        if ord(s[i]) % 2 == 0:\n",
    "            s1.append(s[i].upper())\n",
    "        else:\n",
    "            s1.append(s[i].lower())\n",
    "\n",
    "    return \"\".join((s1))\n",
    "ascii_capitalize('let the flame go on')"
   ]
  },
  {
   "cell_type": "code",
   "execution_count": 16,
   "id": "b011cf2b",
   "metadata": {},
   "outputs": [
    {
     "name": "stdout",
     "output_type": "stream",
     "text": [
      "ENTER THE NUMBER  10\n",
      "NUMBER IS EVEN\n"
     ]
    }
   ],
   "source": [
    "#Section B\n",
    "#Write a Python Program to Check if a Number is Odd or Even?\n",
    "\n",
    "def check(NUM):\n",
    "    if (NUM%2)==0:\n",
    "        print (\"NUMBER IS EVEN\")\n",
    "    else:\n",
    "        print(\"NUMBER IS ODD\")\n",
    "X=int(input(\"ENTER THE NUMBER  \"))\n",
    "Y=check(X)"
   ]
  },
  {
   "cell_type": "code",
   "execution_count": 17,
   "id": "ec140c52",
   "metadata": {},
   "outputs": [
    {
     "name": "stdout",
     "output_type": "stream",
     "text": [
      "enter the number:2002\n"
     ]
    },
    {
     "data": {
      "text/plain": [
       "'The year is not a leap year'"
      ]
     },
     "execution_count": 17,
     "metadata": {},
     "output_type": "execute_result"
    }
   ],
   "source": [
    "#Write a Python Program to Check Leap Year?\n",
    "\n",
    "num=int(input(\"enter the number:\"))  \n",
    "def chk_leap(num):\n",
    "    if num%4==0 and num%100!=0 or num%400==0:\n",
    "        return 'The year is leap year'\n",
    "    else:\n",
    "        return 'The year is not a leap year'\n",
    "chk_leap(num)    "
   ]
  },
  {
   "cell_type": "code",
   "execution_count": 18,
   "id": "9b627349",
   "metadata": {},
   "outputs": [
    {
     "name": "stdout",
     "output_type": "stream",
     "text": [
      "True\n"
     ]
    }
   ],
   "source": [
    "#Write a Python Program to check if given array is Monotonic?\n",
    "# Check if given array is Monotonic\n",
    "def isMonotonic(A):\n",
    "    x, y = [], []\n",
    "    x.extend(A)\n",
    "    y.extend(A)\n",
    "    x.sort()\n",
    "    y.sort(reverse=True)\n",
    "    if(x == A or y == A):\n",
    "        return True\n",
    "    return False\n",
    " \n",
    " \n",
    "# Driver program\n",
    "A = [2, 2, 4, 4]\n",
    " \n",
    "# Print required result\n",
    "print(isMonotonic(A))"
   ]
  },
  {
   "cell_type": "code",
   "execution_count": 19,
   "id": "b2105a5f",
   "metadata": {},
   "outputs": [
    {
     "name": "stdout",
     "output_type": "stream",
     "text": [
      "6 625 36 121 100 225 "
     ]
    }
   ],
   "source": [
    "#Write a Python Program to Split the array and add the first part to the end?# Python program to split array and move first part to end.\n",
    " \n",
    "def splitArr(arr, n, k):\n",
    "    for i in range(0, k):\n",
    "        x = arr[0]\n",
    "        for j in range(0, n-1):\n",
    "            arr[j] = arr[j + 1]\n",
    "         \n",
    "        arr[n-1] = x\n",
    "         \n",
    " \n",
    "#main\n",
    "arr = [121, 100, 225, 6, 625, 36]\n",
    "n = len(arr)\n",
    "position = 3\n",
    " \n",
    "splitArr(arr, n, position)\n",
    " \n",
    "for i in range(0, n):\n",
    "    print(arr[i],end=' ')"
   ]
  },
  {
   "cell_type": "code",
   "execution_count": 20,
   "id": "76e8f7b1",
   "metadata": {},
   "outputs": [
    {
     "name": "stdout",
     "output_type": "stream",
     "text": [
      "The list is: [2, 51, -344, 7, 4, 85, -56]\n",
      "The product is: \n",
      "381561344\n"
     ]
    }
   ],
   "source": [
    "#Python program to find sum of elements in list\n",
    "\n",
    "import numpy\n",
    "def multiply_numbers(list):\n",
    "   return numpy.prod(list)\n",
    "given_list = [2,51,-344,7,4,85,-56]\n",
    "print('The list is:',given_list)\n",
    "print(\"The product is: \")\n",
    "print(multiply_numbers(given_list))"
   ]
  },
  {
   "cell_type": "code",
   "execution_count": 21,
   "id": "1e65a06d",
   "metadata": {},
   "outputs": [],
   "source": [
    "#Section C\n",
    "#Question1\n",
    "#1. If the number can be divided evenly by 4, amplify it by 10\n",
    "#2. If the number cannot be divided evenly by 4, simply return the number.\n",
    "\n",
    "def amplify(n):\n",
    "    return [i*10 if i % 4 == 0 else i for i in range(1,n+1) ]\n"
   ]
  },
  {
   "cell_type": "code",
   "execution_count": 22,
   "id": "72a18d2c",
   "metadata": {},
   "outputs": [
    {
     "data": {
      "text/plain": [
       "[1, 2, 3, 40, 5, 6, 7, 80, 9, 10]"
      ]
     },
     "execution_count": 22,
     "metadata": {},
     "output_type": "execute_result"
    }
   ],
   "source": [
    "amplify(10)"
   ]
  },
  {
   "cell_type": "code",
   "execution_count": 23,
   "id": "e2f8f313",
   "metadata": {},
   "outputs": [
    {
     "ename": "TypeError",
     "evalue": "'list' object is not callable",
     "output_type": "error",
     "traceback": [
      "\u001b[1;31m---------------------------------------------------------------------------\u001b[0m",
      "\u001b[1;31mTypeError\u001b[0m                                 Traceback (most recent call last)",
      "\u001b[1;32m~\\AppData\\Local\\Temp\\ipykernel_9828\\4222302188.py\u001b[0m in \u001b[0;36m<module>\u001b[1;34m\u001b[0m\n\u001b[0;32m      7\u001b[0m         \u001b[1;32mif\u001b[0m \u001b[0mlst\u001b[0m\u001b[1;33m.\u001b[0m\u001b[0mcount\u001b[0m\u001b[1;33m(\u001b[0m\u001b[0mi\u001b[0m\u001b[1;33m)\u001b[0m \u001b[1;33m==\u001b[0m \u001b[1;36m1\u001b[0m\u001b[1;33m:\u001b[0m\u001b[1;33m\u001b[0m\u001b[1;33m\u001b[0m\u001b[0m\n\u001b[0;32m      8\u001b[0m             \u001b[1;32mreturn\u001b[0m \u001b[0mi\u001b[0m\u001b[1;33m\u001b[0m\u001b[1;33m\u001b[0m\u001b[0m\n\u001b[1;32m----> 9\u001b[1;33m \u001b[0munique\u001b[0m\u001b[1;33m(\u001b[0m\u001b[1;33m[\u001b[0m\u001b[1;36m0\u001b[0m\u001b[1;33m,\u001b[0m \u001b[1;36m0\u001b[0m\u001b[1;33m,\u001b[0m \u001b[1;36m0.28\u001b[0m\u001b[1;33m,\u001b[0m \u001b[1;36m0\u001b[0m\u001b[1;33m,\u001b[0m \u001b[1;36m0\u001b[0m\u001b[1;33m]\u001b[0m\u001b[1;33m)\u001b[0m\u001b[1;33m\u001b[0m\u001b[1;33m\u001b[0m\u001b[0m\n\u001b[0m",
      "\u001b[1;32m~\\AppData\\Local\\Temp\\ipykernel_9828\\4222302188.py\u001b[0m in \u001b[0;36munique\u001b[1;34m(lst)\u001b[0m\n\u001b[0;32m      3\u001b[0m \u001b[1;33m\u001b[0m\u001b[0m\n\u001b[0;32m      4\u001b[0m \u001b[1;32mdef\u001b[0m \u001b[0munique\u001b[0m\u001b[1;33m(\u001b[0m\u001b[0mlst\u001b[0m\u001b[1;33m)\u001b[0m\u001b[1;33m:\u001b[0m\u001b[1;33m\u001b[0m\u001b[1;33m\u001b[0m\u001b[0m\n\u001b[1;32m----> 5\u001b[1;33m     \u001b[0ms\u001b[0m \u001b[1;33m=\u001b[0m \u001b[0mlist\u001b[0m\u001b[1;33m(\u001b[0m\u001b[0mset\u001b[0m\u001b[1;33m(\u001b[0m\u001b[0mlst\u001b[0m\u001b[1;33m)\u001b[0m\u001b[1;33m)\u001b[0m\u001b[1;31m# give us unique value\u001b[0m\u001b[1;33m\u001b[0m\u001b[1;33m\u001b[0m\u001b[0m\n\u001b[0m\u001b[0;32m      6\u001b[0m     \u001b[1;32mfor\u001b[0m \u001b[0mi\u001b[0m \u001b[1;32min\u001b[0m \u001b[0ms\u001b[0m\u001b[1;33m:\u001b[0m\u001b[1;33m\u001b[0m\u001b[1;33m\u001b[0m\u001b[0m\n\u001b[0;32m      7\u001b[0m         \u001b[1;32mif\u001b[0m \u001b[0mlst\u001b[0m\u001b[1;33m.\u001b[0m\u001b[0mcount\u001b[0m\u001b[1;33m(\u001b[0m\u001b[0mi\u001b[0m\u001b[1;33m)\u001b[0m \u001b[1;33m==\u001b[0m \u001b[1;36m1\u001b[0m\u001b[1;33m:\u001b[0m\u001b[1;33m\u001b[0m\u001b[1;33m\u001b[0m\u001b[0m\n",
      "\u001b[1;31mTypeError\u001b[0m: 'list' object is not callable"
     ]
    }
   ],
   "source": [
    "#Question2\n",
    "#Create a function that takes a list of numbers and return the number that's unique\n",
    "\n",
    "def unique(lst):\n",
    "    s = list(set(lst))# give us unique value\n",
    "    for i in s:\n",
    "        if lst.count(i) == 1:\n",
    "            return i\n",
    "unique([0, 0, 0.28, 0, 0])"
   ]
  },
  {
   "cell_type": "code",
   "execution_count": 24,
   "id": "41029cc1",
   "metadata": {},
   "outputs": [
    {
     "data": {
      "text/plain": [
       "314"
      ]
     },
     "execution_count": 24,
     "metadata": {},
     "output_type": "execute_result"
    }
   ],
   "source": [
    "#Question3\n",
    "\n",
    "class Circle():\n",
    "    def __init__(self, r):\n",
    "        self.radius = r\n",
    "\n",
    "    def getArea(self):\n",
    "        return round(self.radius**2*3.14)\n",
    "    \n",
    "    def getPerimeter(self):\n",
    "        return round(2*self.radius*3.14)\n",
    "circy = Circle(10)\n",
    "circy.getArea()   \n"
   ]
  },
  {
   "cell_type": "code",
   "execution_count": 25,
   "id": "38853360",
   "metadata": {},
   "outputs": [
    {
     "data": {
      "text/plain": [
       "63"
      ]
     },
     "execution_count": 25,
     "metadata": {},
     "output_type": "execute_result"
    }
   ],
   "source": [
    "circy.getPerimeter()"
   ]
  },
  {
   "cell_type": "code",
   "execution_count": 26,
   "id": "099b1dbd",
   "metadata": {},
   "outputs": [
    {
     "data": {
      "text/plain": [
       "['Kiwi', 'Apple', 'Pineapple']"
      ]
     },
     "execution_count": 26,
     "metadata": {},
     "output_type": "execute_result"
    }
   ],
   "source": [
    "#Question4\n",
    "#Create a function that takes a list of strings and return a list, sorted from shortest to longest.\n",
    "\n",
    "def sort_by_length(lst):\n",
    "    return sorted(lst, key = len)\n",
    "sort_by_length(['Kiwi', 'Apple', 'Pineapple'])"
   ]
  },
  {
   "cell_type": "code",
   "execution_count": 27,
   "id": "68aae9b4",
   "metadata": {},
   "outputs": [],
   "source": [
    "#Question5\n",
    "#Create a function that validates whether three given integers form a Pythagorean triplet\n",
    "\n",
    "def is_triplet(a,b,c):\n",
    "    lst = []\n",
    "    lst.extend((a,b,c))\n",
    "    lst = sorted(lst)\n",
    "\n",
    "    if lst[0]**2 + lst[1]**2 == lst[2]**2:\n",
    "        print('Triplets')\n",
    "        return True\n",
    "    else:\n",
    "        print(\"not triplet\")\n",
    "        return False"
   ]
  },
  {
   "cell_type": "code",
   "execution_count": 28,
   "id": "38cb56a2",
   "metadata": {},
   "outputs": [
    {
     "name": "stdout",
     "output_type": "stream",
     "text": [
      "Triplets\n"
     ]
    },
    {
     "data": {
      "text/plain": [
       "True"
      ]
     },
     "execution_count": 28,
     "metadata": {},
     "output_type": "execute_result"
    }
   ],
   "source": [
    "is_triplet(9,12,15)"
   ]
  },
  {
   "cell_type": "code",
   "execution_count": null,
   "id": "f7faf9ae",
   "metadata": {},
   "outputs": [],
   "source": []
  }
 ],
 "metadata": {
  "kernelspec": {
   "display_name": "Python 3 (ipykernel)",
   "language": "python",
   "name": "python3"
  },
  "language_info": {
   "codemirror_mode": {
    "name": "ipython",
    "version": 3
   },
   "file_extension": ".py",
   "mimetype": "text/x-python",
   "name": "python",
   "nbconvert_exporter": "python",
   "pygments_lexer": "ipython3",
   "version": "3.9.13"
  }
 },
 "nbformat": 4,
 "nbformat_minor": 5
}
